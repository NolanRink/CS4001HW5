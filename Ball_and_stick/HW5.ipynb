{
  "nbformat": 4,
  "nbformat_minor": 0,
  "metadata": {
    "colab": {
      "provenance": []
    },
    "kernelspec": {
      "name": "python3",
      "display_name": "Python 3"
    },
    "language_info": {
      "name": "python"
    }
  },
  "cells": [
    {
      "cell_type": "code",
      "source": [
        "!pip install neuron\n",
        "!pip install mpi4py"
      ],
      "metadata": {
        "colab": {
          "base_uri": "https://localhost:8080/"
        },
        "id": "5h6uHaSoL-gL",
        "outputId": "bd3913e0-2d5b-4e6a-bd8d-27ca631b32b7"
      },
      "execution_count": 2,
      "outputs": [
        {
          "output_type": "stream",
          "name": "stdout",
          "text": [
            "Requirement already satisfied: neuron in /usr/local/lib/python3.11/dist-packages (8.2.6)\n",
            "Requirement already satisfied: numpy<2,>=1.9.3 in /usr/local/lib/python3.11/dist-packages (from neuron) (1.26.4)\n",
            "Requirement already satisfied: packaging in /usr/local/lib/python3.11/dist-packages (from neuron) (24.2)\n",
            "Requirement already satisfied: find-libpython in /usr/local/lib/python3.11/dist-packages (from neuron) (0.4.0)\n",
            "Requirement already satisfied: setuptools in /usr/local/lib/python3.11/dist-packages (from neuron) (75.1.0)\n"
          ]
        }
      ]
    },
    {
      "cell_type": "code",
      "source": [
        "!mpiexec --allow-run-as-root -n 4 python testmpi.py"
      ],
      "metadata": {
        "colab": {
          "base_uri": "https://localhost:8080/"
        },
        "id": "fY6z9a713sIl",
        "outputId": "5239654c-1d24-4107-c99a-037fc6757913"
      },
      "execution_count": 3,
      "outputs": [
        {
          "output_type": "stream",
          "name": "stdout",
          "text": [
            "--------------------------------------------------------------------------\n",
            "There are not enough slots available in the system to satisfy the 4\n",
            "slots that were requested by the application:\n",
            "\n",
            "  python\n",
            "\n",
            "Either request fewer slots for your application, or make more slots\n",
            "available for use.\n",
            "\n",
            "A \"slot\" is the Open MPI term for an allocatable unit where we can\n",
            "launch a process.  The number of slots available are defined by the\n",
            "environment in which Open MPI processes are run:\n",
            "\n",
            "  1. Hostfile, via \"slots=N\" clauses (N defaults to number of\n",
            "     processor cores if not provided)\n",
            "  2. The --host command line parameter, via a \":N\" suffix on the\n",
            "     hostname (N defaults to 1 if not provided)\n",
            "  3. Resource manager (e.g., SLURM, PBS/Torque, LSF, etc.)\n",
            "  4. If none of a hostfile, the --host command line parameter, or an\n",
            "     RM is present, Open MPI defaults to the number of processor cores\n",
            "\n",
            "In all the above cases, if you want Open MPI to default to the number\n",
            "of hardware threads instead of the number of processor cores, use the\n",
            "--use-hwthread-cpus option.\n",
            "\n",
            "Alternatively, you can use the --oversubscribe option to ignore the\n",
            "number of available slots when deciding the number of processes to\n",
            "launch.\n",
            "--------------------------------------------------------------------------\n"
          ]
        }
      ]
    },
    {
      "cell_type": "code",
      "source": [
        "%%writefile ballandstick.py\n",
        "from neuron import h\n",
        "from neuron.units import ms, mV\n",
        "\n",
        "class Cell:\n",
        "    def __init__(self, gid, x, y, z, theta):\n",
        "        self._gid = gid\n",
        "        self._setup_morphology()\n",
        "        self.all = self.soma.wholetree()\n",
        "        self._setup_biophysics()\n",
        "        self.x = self.y = self.z = 0\n",
        "        h.define_shape()\n",
        "        self._rotate_z(theta)\n",
        "        self._set_position(x, y, z)\n",
        "\n",
        "        # Set up a spike detector\n",
        "        self._spike_detector = h.NetCon(self.soma(0.5)._ref_v, None, sec=self.soma)\n",
        "        self.spike_times = h.Vector()\n",
        "        self._spike_detector.record(self.spike_times)\n",
        "\n",
        "        self._ncs = []  # to store NetCons\n",
        "        self.soma_v = h.Vector().record(self.soma(0.5)._ref_v)\n",
        "\n",
        "    def __repr__(self):\n",
        "        return '{}[{}]'.format(self.name, self._gid)\n",
        "\n",
        "    def _set_position(self, x, y, z):\n",
        "        for sec in self.all:\n",
        "            for i in range(sec.n3d()):\n",
        "                sec.pt3dchange(i,\n",
        "                               x - self.x + sec.x3d(i),\n",
        "                               y - self.y + sec.y3d(i),\n",
        "                               z - self.z + sec.z3d(i),\n",
        "                               sec.diam3d(i))\n",
        "        self.x, self.y, self.z = x, y, z\n",
        "\n",
        "    def _rotate_z(self, theta):\n",
        "        \"\"\"Rotate the cell about the Z axis.\"\"\"\n",
        "        for sec in self.all:\n",
        "            for i in range(sec.n3d()):\n",
        "                x = sec.x3d(i)\n",
        "                y = sec.y3d(i)\n",
        "                c = h.cos(theta)\n",
        "                s = h.sin(theta)\n",
        "                xprime = x * c - y * s\n",
        "                yprime = x * s + y * c\n",
        "                sec.pt3dchange(i, xprime, yprime, sec.z3d(i), sec.diam3d(i))\n",
        "\n",
        "class BallAndStick(Cell):\n",
        "    name = 'BallAndStick'\n",
        "\n",
        "    def _setup_morphology(self):\n",
        "        self.soma = h.Section(name='soma', cell=self)\n",
        "        self.dend = h.Section(name='dend', cell=self)\n",
        "        self.dend.connect(self.soma)\n",
        "        self.soma.L = self.soma.diam = 12.6157\n",
        "        self.dend.L = 200\n",
        "        self.dend.diam = 1\n",
        "\n",
        "    def _setup_biophysics(self):\n",
        "        for sec in self.all:\n",
        "            sec.Ra = 100   # Axial resistance in Ohm*cm\n",
        "            sec.cm = 1     # Membrane capacitance in microF/cm^2\n",
        "        # Insert Hodgkin-Huxley channels in the soma:\n",
        "        self.soma.insert('hh')\n",
        "        for seg in self.soma:\n",
        "            seg.hh.gnabar = 0.12\n",
        "            seg.hh.gkbar = 0.036\n",
        "            seg.hh.gl = 0.0003\n",
        "            seg.hh.el = -54.3\n",
        "        # Insert passive current in the dendrite:\n",
        "        self.dend.insert('pas')\n",
        "        for seg in self.dend:\n",
        "            seg.pas.g = 0.001\n",
        "            seg.pas.e = -65\n",
        "        # Create a synapse at the middle of the dendrite:\n",
        "        self.syn = h.ExpSyn(self.dend(0.5))\n",
        "        self.syn.tau = 2 * ms\n"
      ],
      "metadata": {
        "colab": {
          "base_uri": "https://localhost:8080/"
        },
        "id": "JLz0UjzAL6nT",
        "outputId": "b680f448-d47f-498b-b30b-64118f5a235e"
      },
      "execution_count": 2,
      "outputs": [
        {
          "output_type": "stream",
          "name": "stdout",
          "text": [
            "Overwriting ballandstick.py\n"
          ]
        }
      ]
    },
    {
      "cell_type": "code",
      "source": [
        "%%writefile ring_net.py\n",
        "from neuron import h\n",
        "from ballandstick import BallAndStick\n",
        "\n",
        "# Initialize MPI support before using ParallelContext.\n",
        "h.nrnmpi_init()\n",
        "pc = h.ParallelContext()\n",
        "\n",
        "class Ring:\n",
        "    \"\"\"\n",
        "    A network of N Ball-and-Stick cells arranged in a ring.\n",
        "    Each cell n makes an excitatory synapse onto cell n+1,\n",
        "    with the last cell connecting back to the first.\n",
        "    \"\"\"\n",
        "    def __init__(self, N=5, stim_w=0.04, stim_t=9, stim_delay=1, syn_w=0.01, syn_delay=5, r=50):\n",
        "        self._N = N\n",
        "        self.set_gids()\n",
        "        self._syn_w = syn_w\n",
        "        self._syn_delay = syn_delay\n",
        "        self._create_cells(r)\n",
        "        self._connect_cells()\n",
        "        # Only the process that owns cell with gid 0 gets the stimulus.\n",
        "        if pc.gid_exists(0):\n",
        "            self._netstim = h.NetStim()\n",
        "            self._netstim.number = 1\n",
        "            self._netstim.start = stim_t\n",
        "            self._nc = h.NetCon(self._netstim, pc.gid2cell(0).syn)\n",
        "            self._nc.delay = stim_delay\n",
        "            self._nc.weight[0] = stim_w\n",
        "\n",
        "    def set_gids(self):\n",
        "        \"\"\"Assign cell gids round-robin across available MPI hosts.\"\"\"\n",
        "        self.gidlist = list(range(pc.id(), self._N, pc.nhost()))\n",
        "        for gid in self.gidlist:\n",
        "            if not pc.gid_exists(gid):\n",
        "                pc.set_gid2node(gid, pc.id())\n",
        "\n",
        "    def _create_cells(self, r):\n",
        "        self.cells = []\n",
        "        for i in self.gidlist:\n",
        "            theta = i * 2 * h.PI / self._N\n",
        "            cell = BallAndStick(i, h.cos(theta) * r, h.sin(theta) * r, 0, theta)\n",
        "            self.cells.append(cell)\n",
        "        for cell in self.cells:\n",
        "            pc.cell(cell._gid, cell._spike_detector)\n",
        "\n",
        "    def _connect_cells(self):\n",
        "        \"\"\"Connect each cell's output synapse to the next cell's synapse in a ring.\"\"\"\n",
        "        for target in self.cells:\n",
        "            source_gid = (target._gid - 1 + self._N) % self._N\n",
        "            nc = pc.gid_connect(source_gid, target.syn)\n",
        "            nc.weight[0] = self._syn_w\n",
        "            nc.delay = self._syn_delay\n",
        "            target._ncs.append(nc)\n"
      ],
      "metadata": {
        "colab": {
          "base_uri": "https://localhost:8080/"
        },
        "id": "bNMlyylt1PXb",
        "outputId": "41d43b6f-1b4a-479e-ca02-03d3d5e662e7"
      },
      "execution_count": 3,
      "outputs": [
        {
          "output_type": "stream",
          "name": "stdout",
          "text": [
            "Overwriting ring_net.py\n"
          ]
        }
      ]
    },
    {
      "cell_type": "code",
      "source": [
        "from neuron import h\n",
        "from neuron.units import ms, mV\n",
        "h.load_file('stdrun.hoc')  # ensure the standard run library is loaded\n",
        "\n",
        "from ring_net import Ring\n",
        "import time\n",
        "\n",
        "# Get the ParallelContext (initialized in ring_net.py)\n",
        "from neuron import h\n",
        "pc = h.ParallelContext()\n",
        "pc.set_maxstep(10 * ms)  # Maximum time step for parallel communication\n",
        "\n",
        "# Create the network first so that sections are defined\n",
        "ring = Ring(N=5)\n",
        "\n",
        "# Now record the simulation time vector\n",
        "t_vec = h.Vector().record(h._ref_t)\n",
        "\n",
        "# Set simulation duration\n",
        "sim_time = 100 * ms\n",
        "\n",
        "# Start the timer\n",
        "start_time = time.time()\n",
        "\n",
        "# Run the simulation using the parallel solver.\n",
        "# (For a serial run in the notebook, you might use h.continuerun(sim_time) instead.)\n",
        "pc.psolve(sim_time)\n",
        "\n",
        "# End the timer\n",
        "end_time = time.time()\n",
        "execution_time = end_time - start_time\n",
        "\n",
        "# Only the process owning cell with gid 0 prints the execution time\n",
        "if pc.id() == 0:\n",
        "    print(\"Total execution time: {:.3f} seconds\".format(execution_time))\n",
        "\n",
        "# Synchronize processes before finishing (important for parallel runs)\n",
        "pc.barrier()\n",
        "pc.done()\n",
        "h.quit()\n"
      ],
      "metadata": {
        "colab": {
          "base_uri": "https://localhost:8080/"
        },
        "id": "ELWhhW3j1QHS",
        "outputId": "a197f345-24f5-42cb-82ee-d6d3a4347541"
      },
      "execution_count": null,
      "outputs": [
        {
          "output_type": "stream",
          "name": "stdout",
          "text": [
            "Total execution time: 0.012 seconds\n"
          ]
        }
      ]
    },
    {
      "cell_type": "code",
      "source": [],
      "metadata": {
        "id": "9tMkYHfC1R_B"
      },
      "execution_count": null,
      "outputs": []
    }
  ]
}